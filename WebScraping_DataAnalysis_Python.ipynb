{
 "cells": [
  {
   "cell_type": "code",
   "execution_count": 34,
   "metadata": {},
   "outputs": [],
   "source": [
    "from selenium import webdriver\n",
    "PATH = 'C:\\Program Files (x86)\\edgedriver_win32\\msedgedriver.exe'\n",
    "browser = webdriver.Edge(executable_path = PATH)\n",
    "url = 'https://www.amazon.de/s?i=digital-text&bbn=567112031&rh=n%3A530484031%2Cn%3A530886031%2Cn%3A567112031%2Cn%3A610669031%2Cp_n_feature_nineteen_browse-bin%3A4787284031&s=review-rank&dc&fs=true&qid=1617487879&rnid=567112031&ref=sr_nr_n_3'\n",
    "browser.get(url)"
   ]
  },
  {
   "cell_type": "code",
   "execution_count": 35,
   "metadata": {},
   "outputs": [
    {
     "name": "stdout",
     "output_type": "stream",
     "text": [
      "46\n"
     ]
    }
   ],
   "source": [
    "import pandas as pd\n",
    "import numpy as np\n",
    "\n",
    "titles_list = []\n",
    "authors_list = []\n",
    "rating_list = []\n",
    "review_list = []\n",
    "price_list = []\n",
    "\n",
    "def scrape_data():\n",
    "    titles = browser.find_elements_by_class_name('a-size-medium.a-color-base.a-text-normal')\n",
    "    authors_div = browser.find_elements_by_class_name('a-section.a-spacing-medium')\n",
    "    rating_div = browser.find_elements_by_class_name('a-row.a-size-small')\n",
    "    price_div = browser.find_elements_by_class_name('a-section.a-spacing-none.a-spacing-top-mini')\n",
    "    for i in range(0,len(titles)):\n",
    "        titles_list.append(titles[i].text)\n",
    "        try:\n",
    "            author = authors_div[i].find_element_by_xpath('.//div[2]/div[2]/div/div[1]/div/div').text.split('|')[0][3:]\n",
    "        except Exception:\n",
    "            author = np.NaN\n",
    "        try:\n",
    "            rating = rating_div[i].find_element_by_xpath('.//span[1]').get_attribute('aria-label').split(' ')[0].replace(',','.')\n",
    "        except Exception:\n",
    "            rating = np.NaN\n",
    "        try:\n",
    "            review = rating_div[i].find_element_by_xpath('.//span[2]').get_attribute('aria-label').replace('.',',')\n",
    "        except Exception:\n",
    "            review = np.NaN\n",
    "        try:\n",
    "            price = price_div[i].find_element_by_xpath('.//div/span').text.split(' ')[2].replace(',','.')\n",
    "        except Exception:\n",
    "            price = np.NaN\n",
    "        authors_list.append(author)\n",
    "        rating_list.append(rating)\n",
    "        review_list.append(review)\n",
    "        price_list.append(price) \n",
    "\n",
    "scrape_data()\n",
    "total_pages_number = int(browser.find_element_by_xpath('//*[@id=\"search\"]/div[1]/div/div[1]/div/span[3]/div[2]/div[17]/span/div/div/ul/li[6]').text)\n",
    "for page in range(0,(total_pages_number-1)):\n",
    "    parent = browser.find_element_by_class_name('a-last')\n",
    "    next_page_url = parent.find_element_by_xpath('.//a').get_attribute('href')\n",
    "    browser.get(next_page_url)\n",
    "    scrape_data()\n",
    "    \n",
    "print(total_pages_number)"
   ]
  },
  {
   "cell_type": "code",
   "execution_count": 36,
   "metadata": {},
   "outputs": [
    {
     "name": "stdout",
     "output_type": "stream",
     "text": [
      "722\n"
     ]
    },
    {
     "data": {
      "text/html": [
       "<div>\n",
       "<style scoped>\n",
       "    .dataframe tbody tr th:only-of-type {\n",
       "        vertical-align: middle;\n",
       "    }\n",
       "\n",
       "    .dataframe tbody tr th {\n",
       "        vertical-align: top;\n",
       "    }\n",
       "\n",
       "    .dataframe thead th {\n",
       "        text-align: right;\n",
       "    }\n",
       "</style>\n",
       "<table border=\"1\" class=\"dataframe\">\n",
       "  <thead>\n",
       "    <tr style=\"text-align: right;\">\n",
       "      <th></th>\n",
       "      <th>titles</th>\n",
       "      <th>authors</th>\n",
       "      <th>rating</th>\n",
       "      <th>review</th>\n",
       "      <th>price</th>\n",
       "    </tr>\n",
       "  </thead>\n",
       "  <tbody>\n",
       "    <tr>\n",
       "      <th>0</th>\n",
       "      <td>Bob, der Streuner: Die Katze, die mein Leben v...</td>\n",
       "      <td>James Bowen</td>\n",
       "      <td>4.7</td>\n",
       "      <td>2,128</td>\n",
       "      <td>8.99</td>\n",
       "    </tr>\n",
       "    <tr>\n",
       "      <th>1</th>\n",
       "      <td>Als hätte der Himmel mich vergessen: Verwahrlo...</td>\n",
       "      <td>Amelie Sander und Beate Rygiert</td>\n",
       "      <td>4.7</td>\n",
       "      <td>827</td>\n",
       "      <td>8.99</td>\n",
       "    </tr>\n",
       "    <tr>\n",
       "      <th>2</th>\n",
       "      <td>Die Toten Hosen: Am Anfang war der Lärm</td>\n",
       "      <td>Philipp Oehmke</td>\n",
       "      <td>4.7</td>\n",
       "      <td>259</td>\n",
       "      <td>9.99</td>\n",
       "    </tr>\n",
       "    <tr>\n",
       "      <th>3</th>\n",
       "      <td>Generalisierte Angststörung: 8 erste Schritte ...</td>\n",
       "      <td>Anna I. Marks</td>\n",
       "      <td>5.0</td>\n",
       "      <td>20</td>\n",
       "      <td>4.99</td>\n",
       "    </tr>\n",
       "    <tr>\n",
       "      <th>4</th>\n",
       "      <td>Die Sonne in deinen Zeilen</td>\n",
       "      <td>Nancy Salchow</td>\n",
       "      <td>5.0</td>\n",
       "      <td>19</td>\n",
       "      <td>2.99</td>\n",
       "    </tr>\n",
       "  </tbody>\n",
       "</table>\n",
       "</div>"
      ],
      "text/plain": [
       "                                              titles  \\\n",
       "0  Bob, der Streuner: Die Katze, die mein Leben v...   \n",
       "1  Als hätte der Himmel mich vergessen: Verwahrlo...   \n",
       "2            Die Toten Hosen: Am Anfang war der Lärm   \n",
       "3  Generalisierte Angststörung: 8 erste Schritte ...   \n",
       "4                         Die Sonne in deinen Zeilen   \n",
       "\n",
       "                             authors rating review price  \n",
       "0                       James Bowen     4.7  2,128  8.99  \n",
       "1   Amelie Sander und Beate Rygiert     4.7    827  8.99  \n",
       "2                    Philipp Oehmke     4.7    259  9.99  \n",
       "3                     Anna I. Marks     5.0     20  4.99  \n",
       "4                     Nancy Salchow     5.0     19  2.99  "
      ]
     },
     "execution_count": 36,
     "metadata": {},
     "output_type": "execute_result"
    }
   ],
   "source": [
    "data = {'titles': titles_list, 'authors': authors_list, 'rating': rating_list, 'review': review_list, 'price': price_list}\n",
    "df = pd.DataFrame(data)\n",
    "df.to_csv('D:\\MSc\\Python\\Samples\\ebooksData3.csv')\n",
    "print(len(df))\n",
    "df.head(5)"
   ]
  },
  {
   "cell_type": "code",
   "execution_count": 37,
   "metadata": {},
   "outputs": [
    {
     "data": {
      "text/html": [
       "<div>\n",
       "<style scoped>\n",
       "    .dataframe tbody tr th:only-of-type {\n",
       "        vertical-align: middle;\n",
       "    }\n",
       "\n",
       "    .dataframe tbody tr th {\n",
       "        vertical-align: top;\n",
       "    }\n",
       "\n",
       "    .dataframe thead th {\n",
       "        text-align: right;\n",
       "    }\n",
       "</style>\n",
       "<table border=\"1\" class=\"dataframe\">\n",
       "  <thead>\n",
       "    <tr style=\"text-align: right;\">\n",
       "      <th></th>\n",
       "      <th>titles</th>\n",
       "      <th>authors</th>\n",
       "      <th>rating</th>\n",
       "      <th>review</th>\n",
       "      <th>price</th>\n",
       "    </tr>\n",
       "  </thead>\n",
       "  <tbody>\n",
       "    <tr>\n",
       "      <th>count</th>\n",
       "      <td>722</td>\n",
       "      <td>705</td>\n",
       "      <td>432</td>\n",
       "      <td>432</td>\n",
       "      <td>704</td>\n",
       "    </tr>\n",
       "    <tr>\n",
       "      <th>unique</th>\n",
       "      <td>721</td>\n",
       "      <td>565</td>\n",
       "      <td>33</td>\n",
       "      <td>85</td>\n",
       "      <td>247</td>\n",
       "    </tr>\n",
       "    <tr>\n",
       "      <th>top</th>\n",
       "      <td>Studienplaner 2019/2020: Studienplaner, Wochen...</td>\n",
       "      <td>Deni Iseli</td>\n",
       "      <td>5.0</td>\n",
       "      <td>1</td>\n",
       "      <td>2.99</td>\n",
       "    </tr>\n",
       "    <tr>\n",
       "      <th>freq</th>\n",
       "      <td>2</td>\n",
       "      <td>59</td>\n",
       "      <td>127</td>\n",
       "      <td>78</td>\n",
       "      <td>81</td>\n",
       "    </tr>\n",
       "  </tbody>\n",
       "</table>\n",
       "</div>"
      ],
      "text/plain": [
       "                                                   titles       authors  \\\n",
       "count                                                 722           705   \n",
       "unique                                                721           565   \n",
       "top     Studienplaner 2019/2020: Studienplaner, Wochen...   Deni Iseli    \n",
       "freq                                                    2            59   \n",
       "\n",
       "       rating review price  \n",
       "count     432    432   704  \n",
       "unique     33     85   247  \n",
       "top       5.0      1  2.99  \n",
       "freq      127     78    81  "
      ]
     },
     "execution_count": 37,
     "metadata": {},
     "output_type": "execute_result"
    }
   ],
   "source": [
    "df.describe()"
   ]
  },
  {
   "cell_type": "code",
   "execution_count": 143,
   "metadata": {},
   "outputs": [
    {
     "name": "stdout",
     "output_type": "stream",
     "text": [
      "<class 'pandas.core.frame.DataFrame'>\n",
      "RangeIndex: 722 entries, 0 to 721\n",
      "Data columns (total 5 columns):\n",
      " #   Column   Non-Null Count  Dtype \n",
      "---  ------   --------------  ----- \n",
      " 0   titles   722 non-null    object\n",
      " 1   authors  705 non-null    object\n",
      " 2   rating   432 non-null    object\n",
      " 3   review   432 non-null    object\n",
      " 4   price    704 non-null    object\n",
      "dtypes: object(5)\n",
      "memory usage: 28.3+ KB\n"
     ]
    }
   ],
   "source": [
    "df.info()"
   ]
  },
  {
   "cell_type": "code",
   "execution_count": 144,
   "metadata": {},
   "outputs": [
    {
     "name": "stdout",
     "output_type": "stream",
     "text": [
      "<class 'pandas.core.frame.DataFrame'>\n",
      "RangeIndex: 722 entries, 0 to 721\n",
      "Data columns (total 5 columns):\n",
      " #   Column   Non-Null Count  Dtype  \n",
      "---  ------   --------------  -----  \n",
      " 0   titles   722 non-null    object \n",
      " 1   authors  705 non-null    object \n",
      " 2   rating   432 non-null    float64\n",
      " 3   review   431 non-null    float64\n",
      " 4   price    702 non-null    float64\n",
      "dtypes: float64(3), object(2)\n",
      "memory usage: 28.3+ KB\n"
     ]
    }
   ],
   "source": [
    "df['rating'] = df['rating'].astype(float)\n",
    "df['review'] = pd.to_numeric(df['review'] , errors='coerce')\n",
    "df['price'] = pd.to_numeric(df['price'] , errors='coerce')\n",
    "df.info()"
   ]
  },
  {
   "cell_type": "code",
   "execution_count": 145,
   "metadata": {},
   "outputs": [
    {
     "name": "stdout",
     "output_type": "stream",
     "text": [
      "<class 'pandas.core.frame.DataFrame'>\n",
      "RangeIndex: 722 entries, 0 to 721\n",
      "Data columns (total 5 columns):\n",
      " #   Column   Non-Null Count  Dtype  \n",
      "---  ------   --------------  -----  \n",
      " 0   titles   722 non-null    object \n",
      " 1   authors  722 non-null    object \n",
      " 2   rating   722 non-null    float64\n",
      " 3   review   722 non-null    float64\n",
      " 4   price    722 non-null    float64\n",
      "dtypes: float64(3), object(2)\n",
      "memory usage: 28.3+ KB\n"
     ]
    }
   ],
   "source": [
    "df['authors'].fillna('No Author', inplace=True)\n",
    "df['rating'].fillna(0, inplace=True)\n",
    "df['review'].fillna(0, inplace=True)\n",
    "df['price'].fillna(0, inplace=True)\n",
    "df.info()"
   ]
  },
  {
   "cell_type": "code",
   "execution_count": 148,
   "metadata": {},
   "outputs": [
    {
     "data": {
      "text/html": [
       "<div>\n",
       "<style scoped>\n",
       "    .dataframe tbody tr th:only-of-type {\n",
       "        vertical-align: middle;\n",
       "    }\n",
       "\n",
       "    .dataframe tbody tr th {\n",
       "        vertical-align: top;\n",
       "    }\n",
       "\n",
       "    .dataframe thead th {\n",
       "        text-align: right;\n",
       "    }\n",
       "</style>\n",
       "<table border=\"1\" class=\"dataframe\">\n",
       "  <thead>\n",
       "    <tr style=\"text-align: right;\">\n",
       "      <th></th>\n",
       "      <th>rating</th>\n",
       "      <th>review</th>\n",
       "      <th>price</th>\n",
       "    </tr>\n",
       "  </thead>\n",
       "  <tbody>\n",
       "    <tr>\n",
       "      <th>count</th>\n",
       "      <td>722.000000</td>\n",
       "      <td>722.000000</td>\n",
       "      <td>722.000000</td>\n",
       "    </tr>\n",
       "    <tr>\n",
       "      <th>mean</th>\n",
       "      <td>2.514127</td>\n",
       "      <td>14.184211</td>\n",
       "      <td>5.368961</td>\n",
       "    </tr>\n",
       "    <tr>\n",
       "      <th>std</th>\n",
       "      <td>2.169789</td>\n",
       "      <td>49.188879</td>\n",
       "      <td>3.518554</td>\n",
       "    </tr>\n",
       "    <tr>\n",
       "      <th>min</th>\n",
       "      <td>0.000000</td>\n",
       "      <td>0.000000</td>\n",
       "      <td>0.000000</td>\n",
       "    </tr>\n",
       "    <tr>\n",
       "      <th>25%</th>\n",
       "      <td>0.000000</td>\n",
       "      <td>0.000000</td>\n",
       "      <td>2.990000</td>\n",
       "    </tr>\n",
       "    <tr>\n",
       "      <th>50%</th>\n",
       "      <td>3.500000</td>\n",
       "      <td>1.000000</td>\n",
       "      <td>4.680000</td>\n",
       "    </tr>\n",
       "    <tr>\n",
       "      <th>75%</th>\n",
       "      <td>4.500000</td>\n",
       "      <td>7.000000</td>\n",
       "      <td>6.997500</td>\n",
       "    </tr>\n",
       "    <tr>\n",
       "      <th>max</th>\n",
       "      <td>5.000000</td>\n",
       "      <td>826.000000</td>\n",
       "      <td>27.630000</td>\n",
       "    </tr>\n",
       "  </tbody>\n",
       "</table>\n",
       "</div>"
      ],
      "text/plain": [
       "           rating      review       price\n",
       "count  722.000000  722.000000  722.000000\n",
       "mean     2.514127   14.184211    5.368961\n",
       "std      2.169789   49.188879    3.518554\n",
       "min      0.000000    0.000000    0.000000\n",
       "25%      0.000000    0.000000    2.990000\n",
       "50%      3.500000    1.000000    4.680000\n",
       "75%      4.500000    7.000000    6.997500\n",
       "max      5.000000  826.000000   27.630000"
      ]
     },
     "execution_count": 148,
     "metadata": {},
     "output_type": "execute_result"
    }
   ],
   "source": [
    "df.describe()"
   ]
  },
  {
   "cell_type": "code",
   "execution_count": 150,
   "metadata": {},
   "outputs": [
    {
     "data": {
      "text/html": [
       "<div>\n",
       "<style scoped>\n",
       "    .dataframe tbody tr th:only-of-type {\n",
       "        vertical-align: middle;\n",
       "    }\n",
       "\n",
       "    .dataframe tbody tr th {\n",
       "        vertical-align: top;\n",
       "    }\n",
       "\n",
       "    .dataframe thead th {\n",
       "        text-align: right;\n",
       "    }\n",
       "</style>\n",
       "<table border=\"1\" class=\"dataframe\">\n",
       "  <thead>\n",
       "    <tr style=\"text-align: right;\">\n",
       "      <th></th>\n",
       "      <th>rating</th>\n",
       "      <th>review</th>\n",
       "      <th>price</th>\n",
       "    </tr>\n",
       "  </thead>\n",
       "  <tbody>\n",
       "    <tr>\n",
       "      <th>rating</th>\n",
       "      <td>1.000000</td>\n",
       "      <td>0.243513</td>\n",
       "      <td>0.077885</td>\n",
       "    </tr>\n",
       "    <tr>\n",
       "      <th>review</th>\n",
       "      <td>0.243513</td>\n",
       "      <td>1.000000</td>\n",
       "      <td>0.143428</td>\n",
       "    </tr>\n",
       "    <tr>\n",
       "      <th>price</th>\n",
       "      <td>0.077885</td>\n",
       "      <td>0.143428</td>\n",
       "      <td>1.000000</td>\n",
       "    </tr>\n",
       "  </tbody>\n",
       "</table>\n",
       "</div>"
      ],
      "text/plain": [
       "          rating    review     price\n",
       "rating  1.000000  0.243513  0.077885\n",
       "review  0.243513  1.000000  0.143428\n",
       "price   0.077885  0.143428  1.000000"
      ]
     },
     "execution_count": 150,
     "metadata": {},
     "output_type": "execute_result"
    }
   ],
   "source": [
    "df.corr()"
   ]
  },
  {
   "cell_type": "code",
   "execution_count": 155,
   "metadata": {},
   "outputs": [
    {
     "data": {
      "text/plain": [
       "<matplotlib.axes._subplots.AxesSubplot at 0x1a5d9b94cd0>"
      ]
     },
     "execution_count": 155,
     "metadata": {},
     "output_type": "execute_result"
    },
    {
     "data": {
      "image/png": "[encoded data removed]",
      "text/plain": [
       "<Figure size 432x288 with 1 Axes>"
      ]
     },
     "metadata": {
      "needs_background": "light"
     },
     "output_type": "display_data"
    }
   ],
   "source": [
    "data = df['authors'].value_counts()[:10]\n",
    "data.plot(title='Horizontal Bars: Top 10 authors that wrote most of the memoirs', kind='barh', legend=True)"
   ]
  },
  {
   "cell_type": "code",
   "execution_count": 153,
   "metadata": {},
   "outputs": [
    {
     "data": {
      "text/html": [
       "<div>\n",
       "<style scoped>\n",
       "    .dataframe tbody tr th:only-of-type {\n",
       "        vertical-align: middle;\n",
       "    }\n",
       "\n",
       "    .dataframe tbody tr th {\n",
       "        vertical-align: top;\n",
       "    }\n",
       "\n",
       "    .dataframe thead th {\n",
       "        text-align: right;\n",
       "    }\n",
       "</style>\n",
       "<table border=\"1\" class=\"dataframe\">\n",
       "  <thead>\n",
       "    <tr style=\"text-align: right;\">\n",
       "      <th></th>\n",
       "      <th>authors</th>\n",
       "      <th>rating</th>\n",
       "      <th>review</th>\n",
       "    </tr>\n",
       "  </thead>\n",
       "  <tbody>\n",
       "    <tr>\n",
       "      <th>15</th>\n",
       "      <td>Amelie Sander und Beate Rygiert</td>\n",
       "      <td>4.7</td>\n",
       "      <td>826.0</td>\n",
       "    </tr>\n",
       "    <tr>\n",
       "      <th>92</th>\n",
       "      <td>Corinne Hofmann</td>\n",
       "      <td>4.5</td>\n",
       "      <td>366.0</td>\n",
       "    </tr>\n",
       "    <tr>\n",
       "      <th>120</th>\n",
       "      <td>Dominik Bloh und Axel Martens</td>\n",
       "      <td>4.6</td>\n",
       "      <td>490.0</td>\n",
       "    </tr>\n",
       "    <tr>\n",
       "      <th>393</th>\n",
       "      <td>Michelle Burford , Michelle Knight , et al.</td>\n",
       "      <td>4.6</td>\n",
       "      <td>209.0</td>\n",
       "    </tr>\n",
       "    <tr>\n",
       "      <th>438</th>\n",
       "      <td>Philipp Oehmke</td>\n",
       "      <td>4.7</td>\n",
       "      <td>259.0</td>\n",
       "    </tr>\n",
       "    <tr>\n",
       "      <th>477</th>\n",
       "      <td>Sabine Kuegler</td>\n",
       "      <td>4.6</td>\n",
       "      <td>286.0</td>\n",
       "    </tr>\n",
       "    <tr>\n",
       "      <th>494</th>\n",
       "      <td>Sophie Seeberg</td>\n",
       "      <td>4.6</td>\n",
       "      <td>223.0</td>\n",
       "    </tr>\n",
       "  </tbody>\n",
       "</table>\n",
       "</div>"
      ],
      "text/plain": [
       "                                           authors  rating  review\n",
       "15                Amelie Sander und Beate Rygiert      4.7   826.0\n",
       "92                                Corinne Hofmann      4.5   366.0\n",
       "120                 Dominik Bloh und Axel Martens      4.6   490.0\n",
       "393   Michelle Burford , Michelle Knight , et al.      4.6   209.0\n",
       "438                                Philipp Oehmke      4.7   259.0\n",
       "477                                Sabine Kuegler      4.6   286.0\n",
       "494                                Sophie Seeberg      4.6   223.0"
      ]
     },
     "execution_count": 153,
     "metadata": {},
     "output_type": "execute_result"
    }
   ],
   "source": [
    "pivot = df.pivot_table(index=['authors'], values=['rating', 'review'], aggfunc='mean').reset_index()\n",
    "newdf = pivot[(pivot.rating>=4.5) & (pivot.review>=200)]\n",
    "newdf[:10]"
   ]
  },
  {
   "cell_type": "code",
   "execution_count": 158,
   "metadata": {},
   "outputs": [
    {
     "data": {
      "text/plain": [
       "<matplotlib.legend.Legend at 0x1a5dad69400>"
      ]
     },
     "execution_count": 158,
     "metadata": {},
     "output_type": "execute_result"
    },
    {
     "data": {
      "image/png": "[encoded data removed]",
      "text/plain": [
       "<Figure size 432x288 with 1 Axes>"
      ]
     },
     "metadata": {
      "needs_background": "light"
     },
     "output_type": "display_data"
    }
   ],
   "source": [
    "import seaborn as sns\n",
    "import matplotlib.pyplot as plt\n",
    "sns.scatterplot(data=newdf, x='review', y='rating', size='review', hue='authors', legend='full', sizes=(60, 500))\n",
    "plt.legend(bbox_to_anchor=(1.01, 1),borderaxespad=0)"
   ]
  }
 ],
 "metadata": {
  "kernelspec": {
   "display_name": "Python 3",
   "language": "python",
   "name": "python3"
  },
  "language_info": {
   "codemirror_mode": {
    "name": "ipython",
    "version": 3
   },
   "file_extension": ".py",
   "mimetype": "text/x-python",
   "name": "python",
   "nbconvert_exporter": "python",
   "pygments_lexer": "ipython3",
   "version": "3.8.3"
  }
 },
 "nbformat": 4,
 "nbformat_minor": 4
}
